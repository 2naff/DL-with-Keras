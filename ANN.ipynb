{
 "cells": [
  {
   "cell_type": "markdown",
   "metadata": {},
   "source": [
    "# ANN\n",
    "\n",
    "Artificial Neural Network의 준말로, 뉴런과 시냅스로 구성된 인체의 신경망을 흉내 낸 인공지능을 일컫는 말\n",
    "\n",
    "넓은 의미로 사용되지만 단일 은닉 계층을 구성한다는 의미에서 얕은신경망(SNN)이라고도 불리움\n",
    "\n",
    "입력 계층, 은닉 계층, 출력 계층으로 구성된 ANN은 Regression 및 Classification 문제에 사용된다.\n",
    "\n",
    "계층마다 노드의 수를 설정할 수 있으며(하이퍼파라미터), 은닉 계층에서는 주로 비선형 함수인 ReLU, tanh를 사용한다.\n",
    "\n",
    "출력 계층에서는 회귀문제라면 하나의 값을, 분류문제라면 여러 개의 Class 중에서 가장 높은 확률을 지닌 Class를 반환한다.\n",
    "\n",
    "분류 문제에서는 주로 Sigmoid, Softmax 함수를 통해 얻은 값을 이용한다.\n",
    "\n",
    "\n",
    "----\n",
    "\n",
    "Keras를 이용해서는 총 4가지의 방안으로 모델을 구현할 수 있다.\n",
    "\n",
    "</b>(함수형, 객체지향형) (분산, 연쇄)</b>"
   ]
  },
  {
   "cell_type": "code",
   "execution_count": 115,
   "metadata": {},
   "outputs": [],
   "source": [
    "from tensorflow.keras.layers import Activation, Dense, Input\n",
    "from tensorflow.keras.models import Model, Sequential"
   ]
  },
  {
   "cell_type": "markdown",
   "metadata": {},
   "source": [
    "## 분류 \n"
   ]
  },
  {
   "cell_type": "markdown",
   "metadata": {},
   "source": [
    "### 함수-분산\n",
    "\n",
    "분산을 이해하기 위해서는 클래스의 __call__ 함수에 대해 알아야 할 필요가 있다.\n",
    "\n",
    "클래스를 하나의 함수로 인지하여 뒤에 오는 인자를 가지고 함수를 실행하는 것을 의미한다.\n",
    "\n",
    "아래에 __call__ 함수의 예제를 필두로, 분류를 위한 함수형 분산 코드를 서술한다."
   ]
  },
  {
   "cell_type": "code",
   "execution_count": 116,
   "metadata": {},
   "outputs": [
    {
     "name": "stdout",
     "output_type": "stream",
     "text": [
      "2\n",
      "5\n"
     ]
    }
   ],
   "source": [
    "class Date():\n",
    "    def __init__(self, day:int):\n",
    "        self.day = day\n",
    "\n",
    "    def __call__(self, num:int):\n",
    "        return self.day + num\n",
    "\n",
    "print(Date(2).day)\n",
    "print(Date(2)(3)) # (3)을 통해 self.day 와 연산을 해주었다."
   ]
  },
  {
   "cell_type": "code",
   "execution_count": 117,
   "metadata": {},
   "outputs": [],
   "source": [
    "def ANN_model_func(inp, hid, out):\n",
    "    x = Input(shape=(inp, ))\n",
    "    h = Activation('relu')(Dense(hid)(x))\n",
    "    y = Activation('softmax')(Dense(out)(h))\n",
    "\n",
    "    model = Model(x,y)\n",
    "    model.compile(loss='categorical_crossentropy', optimizer = 'adam', metrics = ['accuracy'])\n",
    "    return model\n"
   ]
  },
  {
   "cell_type": "markdown",
   "metadata": {},
   "source": [
    "### 함수-연쇄\n",
    "\n",
    "연쇄는 keras.model.Model이 아닌 Sequential 함수를 통해 순차적으로 계층을 구성해 나아가는 것을 의미한다.\n",
    "\n",
    "연쇄를 사용하면 비교적 직관적이라 해석에 용이하다.\n",
    "\n",
    "블로그에 따로 Sequential에 대한 글을 게재했다.\n",
    "\n",
    "https://blog.naver.com/mcuki/222921842932"
   ]
  },
  {
   "cell_type": "code",
   "execution_count": 118,
   "metadata": {},
   "outputs": [],
   "source": [
    "def ANN_Seq_func(inp, hid, out):\n",
    "    model = Sequential()\n",
    "    model.add(Dense(hid, activation = 'relu', input_shape = (inp, )))\n",
    "    model.add(Dense(out, activation = 'softmax'))\n",
    "    model.compile(loss='categorical_crossentropy', optimizer = 'adam', metrics = ['accuracy'])\n",
    "    return model"
   ]
  },
  {
   "cell_type": "markdown",
   "metadata": {},
   "source": [
    "### 객체지향-분산\n",
    "\n",
    "객체지향형은 class에 Model, Sequential를 부모 클래스로 상속받아 만든다.\n",
    "\n",
    "비전문가가 사용하기 쉽도록 만들었다.\n",
    "\n",
    "super().__init__(input, output) \n",
    "\n",
    "상속에서 input과 output을 넣어줘 형성시킨다음, self.compile를 통해 컴파일을 거친다"
   ]
  },
  {
   "cell_type": "code",
   "execution_count": 119,
   "metadata": {},
   "outputs": [],
   "source": [
    "# 분산형이니 Model 상속\n",
    "\n",
    "class ANN(Model):\n",
    "    def __init__(self, inp, hid, out):\n",
    "        hidden = Dense(hid)\n",
    "        output = Dense(out)\n",
    "        relu = Activation('relu')\n",
    "        softmax = Activation('softmax')\n",
    "\n",
    "        # 요소들을 이어 연결하기\n",
    "\n",
    "        x = Input(shape=(inp,))\n",
    "        h = relu(hidden(x)) # Activation('relu')(Dense(hid)(x))와 같다\n",
    "        y = softmax(output(h))\n",
    "\n",
    "        super().__init__(x, y)\n",
    "        self.compile(loss='categorical_crossentropy', optimizer = 'adam', metrics = ['accuracy'])"
   ]
  },
  {
   "cell_type": "markdown",
   "metadata": {},
   "source": [
    "### 객체지향-연쇄"
   ]
  },
  {
   "cell_type": "code",
   "execution_count": 120,
   "metadata": {},
   "outputs": [],
   "source": [
    "class ANN_Seq(Sequential):\n",
    "    def __init__(self, inp, hid, out):\n",
    "        super().__init__()\n",
    "        self.add(Dense(hid, activation = 'relu', input_shape = (inp,)))\n",
    "        self.add(Dense(out, activation = 'softmax'))\n",
    "        self.compile(loss='categorical_crossentropy', optimizer = 'adam', metrics = ['accuracy'])\n",
    "        "
   ]
  },
  {
   "cell_type": "markdown",
   "metadata": {},
   "source": [
    "### 데이터 수집\n",
    "\n",
    "<u>Keras, Tensorflow, Pytorch, Scikit-Learn </u> 에는 딥러닝 학습을 위한 데이터셋을 제공하고 있다.\n",
    "\n",
    "분류 학습을 위해 <b>MNIST</b> 에서 제공한 <u>손으로 쓴 숫자</u> 데이터를 사용할 것이다\n",
    "\n",
    "0~9까지 총 10가지의 클래스를 가지고 있으며, 사이즈는 28*28 픽셀이다. 명암을 255 단위로 환산하며 255는 가장 검고, 0은 가장 하얀 것을 의미한다.\n",
    "\n",
    "총 60000개의 그림이 x_train에 할당되고, 그에 대한 레이블이 y_train에 할당된다."
   ]
  },
  {
   "cell_type": "code",
   "execution_count": 121,
   "metadata": {},
   "outputs": [
    {
     "data": {
      "text/plain": [
       "((28, 28), 0)"
      ]
     },
     "execution_count": 121,
     "metadata": {},
     "output_type": "execute_result"
    }
   ],
   "source": [
    "from keras.datasets import mnist\n",
    "from keras.utils import to_categorical\n",
    "import numpy as np\n",
    "\n",
    "\n",
    "(x_train, y_train), (x_test, y_test) = mnist.load_data()\n",
    "\n",
    "x_train[1].shape, y_train[1]\n"
   ]
  },
  {
   "cell_type": "markdown",
   "metadata": {},
   "source": [
    "레이블을 원 핫 인코딩 기법을 통해 0과 1의 이진 벡터로 표현한다."
   ]
  },
  {
   "cell_type": "code",
   "execution_count": 122,
   "metadata": {},
   "outputs": [
    {
     "name": "stdout",
     "output_type": "stream",
     "text": [
      "9\n",
      "[0. 0. 0. 0. 0. 0. 0. 0. 0. 1.]\n"
     ]
    }
   ],
   "source": [
    "print(y_train[54])\n",
    "y_train = to_categorical(y_train)\n",
    "\n",
    "print(y_train[54])\n"
   ]
  },
  {
   "cell_type": "markdown",
   "metadata": {},
   "source": [
    "28 * 28의 2차원 그림을 1차원으로 축소시켜 3차원이었던 (60000, 28, 28)을 (60000, 784)로 축소시킨다\n",
    "\n",
    "인자인 -1는 다른 차원을 먼저 할당한 다음 총 데이터에서 그 차원만큼 나눈 값을 자동적으로 기입하겠다는 것을 의미한다\n",
    "\n",
    "-1 : 60000 * 28 * 28 / 28 * 28 = 60000"
   ]
  },
  {
   "cell_type": "code",
   "execution_count": 123,
   "metadata": {},
   "outputs": [],
   "source": [
    "L, H, W = x_train.shape\n",
    "x_train = x_train.reshape(-1, H*W)\n",
    "x_test = x_test.reshape(-1, H*W)"
   ]
  },
  {
   "cell_type": "markdown",
   "metadata": {},
   "source": [
    "명암의 0~255를 255로 나누어 범위를 0~1로 정규화(normalization)을 진행한다"
   ]
  },
  {
   "cell_type": "code",
   "execution_count": 124,
   "metadata": {},
   "outputs": [],
   "source": [
    "x_train = x_train / 255\n",
    "x_test = x_test / 255"
   ]
  },
  {
   "cell_type": "markdown",
   "metadata": {},
   "source": [
    "아래는 위의 과정을 정리한 것이며, 데이터를 호출할 때 다음과 같은 함수를 통해 손쉽게 얻을 것"
   ]
  },
  {
   "cell_type": "code",
   "execution_count": 125,
   "metadata": {},
   "outputs": [],
   "source": [
    "def get_number_data():\n",
    "    (x_train, y_train), (x_test, y_test) = mnist.load_data()\n",
    "\n",
    "    y_train = to_categorical(y_train)\n",
    "    y_test = to_categorical(y_test)\n",
    "\n",
    "    L, H, W = x_train.shape\n",
    "    x_train = x_train.reshape(-1, H*W)\n",
    "    x_test = x_test.reshape(-1, H*W)\n",
    "\n",
    "    x_train = x_train / 255\n",
    "    x_test = x_test / 255\n",
    "\n",
    "    return (x_train, y_train), (x_test, y_test)\n"
   ]
  },
  {
   "cell_type": "markdown",
   "metadata": {},
   "source": [
    "### 손실, 정확도를 그래프로 표현하기\n",
    "\n",
    "Keras의 모델로 구현하면 .history 를 통해 에포크 별 일어난 손실과 정확도에 대한 값을 리스트 형식으로 얻을 수 있다.\n",
    "\n",
    "이를 이용해서 얼만큼의 손실이 변화하는지, 정확도가 증가하는지를 그래프로 한 눈에 보고자 한다"
   ]
  },
  {
   "cell_type": "code",
   "execution_count": 126,
   "metadata": {},
   "outputs": [],
   "source": [
    "import matplotlib.pyplot as plt\n",
    "def show_loss(model):\n",
    "    plt.plot(model.history['loss'])\n",
    "    plt.plot(model.history['val_loss'])\n",
    "    plt.xlabel('Epoch')\n",
    "    plt.ylabel('Loss')\n",
    "    plt.legend(['Training', 'Validation'], loc='upper left')\n",
    "    return plt.show()\n",
    "\n",
    "def show_acc(model):\n",
    "    plt.plot(model.history['accuracy'])\n",
    "    plt.plot(model.history['val_accuracy'])\n",
    "    plt.xlabel('Epoch')\n",
    "    plt.ylabel('accuracy')\n",
    "    plt.legend(['Training', 'Validation'], loc='upper left')\n",
    "    return plt.show()"
   ]
  },
  {
   "cell_type": "markdown",
   "metadata": {},
   "source": [
    "### 본격적인 학습\n",
    "\n",
    "데이터 하나(그림 하나)의 크기는 784이므로 input은 784가 되어야 하고,\n",
    "\n",
    "은닉층은 100개, output은 레이블의 갯수에 맞게 10개로 지정한다."
   ]
  },
  {
   "cell_type": "code",
   "execution_count": 127,
   "metadata": {},
   "outputs": [],
   "source": [
    "inp = 784\n",
    "hid = 100\n",
    "out = 10"
   ]
  },
  {
   "cell_type": "code",
   "execution_count": 128,
   "metadata": {},
   "outputs": [],
   "source": [
    "(x_train, y_train), (x_test, y_test) = get_number_data()"
   ]
  },
  {
   "cell_type": "code",
   "execution_count": 129,
   "metadata": {},
   "outputs": [
    {
     "name": "stdout",
     "output_type": "stream",
     "text": [
      "Epoch 1/5\n",
      " 13/480 [..............................] - ETA: 4s - loss: 1.9857 - accuracy: 0.3762"
     ]
    },
    {
     "name": "stderr",
     "output_type": "stream",
     "text": [
      "2022-11-18 22:59:02.341915: I tensorflow/core/grappler/optimizers/custom_graph_optimizer_registry.cc:114] Plugin optimizer for device_type GPU is enabled.\n"
     ]
    },
    {
     "name": "stdout",
     "output_type": "stream",
     "text": [
      "480/480 [==============================] - ETA: 0s - loss: 0.3959 - accuracy: 0.8896"
     ]
    },
    {
     "name": "stderr",
     "output_type": "stream",
     "text": [
      "2022-11-18 22:59:06.388504: I tensorflow/core/grappler/optimizers/custom_graph_optimizer_registry.cc:114] Plugin optimizer for device_type GPU is enabled.\n"
     ]
    },
    {
     "name": "stdout",
     "output_type": "stream",
     "text": [
      "480/480 [==============================] - 5s 10ms/step - loss: 0.3959 - accuracy: 0.8896 - val_loss: 0.2205 - val_accuracy: 0.9370\n",
      "Epoch 2/5\n",
      "480/480 [==============================] - 5s 10ms/step - loss: 0.1862 - accuracy: 0.9467 - val_loss: 0.1552 - val_accuracy: 0.9563\n",
      "Epoch 3/5\n",
      "480/480 [==============================] - 5s 10ms/step - loss: 0.1354 - accuracy: 0.9616 - val_loss: 0.1362 - val_accuracy: 0.9614\n",
      "Epoch 4/5\n",
      "480/480 [==============================] - 5s 10ms/step - loss: 0.1072 - accuracy: 0.9684 - val_loss: 0.1178 - val_accuracy: 0.9659\n",
      "Epoch 5/5\n",
      "480/480 [==============================] - 5s 10ms/step - loss: 0.0875 - accuracy: 0.9751 - val_loss: 0.1075 - val_accuracy: 0.9681\n"
     ]
    }
   ],
   "source": [
    "model = ANN(inp, hid, out)\n",
    "result = model.fit(x_train, y_train, epochs=5, batch_size = 100, validation_split = 0.2)"
   ]
  },
  {
   "cell_type": "code",
   "execution_count": 130,
   "metadata": {},
   "outputs": [
    {
     "name": "stdout",
     "output_type": "stream",
     "text": [
      "100/100 [==============================] - 1s 7ms/step - loss: 0.1020 - accuracy: 0.9703\n"
     ]
    },
    {
     "data": {
      "text/plain": [
       "[0.10197367519140244, 0.970300018787384]"
      ]
     },
     "execution_count": 130,
     "metadata": {},
     "output_type": "execute_result"
    }
   ],
   "source": [
    "test = model.evaluate(x_test, y_test, batch_size=100)\n",
    "test # Loss, Accuracy"
   ]
  },
  {
   "cell_type": "code",
   "execution_count": 131,
   "metadata": {},
   "outputs": [
    {
     "data": {
      "image/png": "[encoded data removed]",
      "text/plain": [
       "<Figure size 640x480 with 1 Axes>"
      ]
     },
     "metadata": {},
     "output_type": "display_data"
    }
   ],
   "source": [
    "show_loss(result)"
   ]
  },
  {
   "cell_type": "code",
   "execution_count": 132,
   "metadata": {},
   "outputs": [
    {
     "data": {
      "image/png": "[encoded data removed]",
      "text/plain": [
       "<Figure size 640x480 with 1 Axes>"
      ]
     },
     "metadata": {},
     "output_type": "display_data"
    }
   ],
   "source": [
    "show_acc(result)"
   ]
  },
  {
   "cell_type": "markdown",
   "metadata": {},
   "source": [
    "## 회귀\n",
    "\n",
    "회귀를 구현하기 위해서 역시나 객체지향, 함수형으로 분산, 연쇄로 표현가능하다\n",
    "\n",
    "다만 필자는 연쇄적인 표현이 익숙하며, 객체지향형으로 변환하는데 연습이 필요하다 판단되어 객체지향-연쇄로 모델을 구현할 것이다.\n",
    "\n",
    "데이터는 keras에서 제공하는 보스턴 집값을 사용할 것이며 집값에 영향을 주는 13개의 변수와, 집값인 레이블로 표현된다."
   ]
  },
  {
   "cell_type": "markdown",
   "metadata": {},
   "source": [
    "### 모델구현"
   ]
  },
  {
   "cell_type": "code",
   "execution_count": 133,
   "metadata": {},
   "outputs": [],
   "source": [
    "class KerasLinear(Sequential):\n",
    "    def __init__(self, inp, hid, out):\n",
    "        super().__init__()\n",
    "        self.add(Dense(hid, activation = 'relu', input_shape = (inp, )))\n",
    "        self.add(Dense(out,))\n",
    "        self.compile(loss='mse', optimizer = 'sgd')"
   ]
  },
  {
   "cell_type": "markdown",
   "metadata": {},
   "source": [
    "### 데이터 수집 및 전처리\n",
    "\n",
    "scikit-learn processing 중 MinMaxScaler()를 통해 0~1로 정규화를 시켜줄 것이다"
   ]
  },
  {
   "cell_type": "code",
   "execution_count": 134,
   "metadata": {},
   "outputs": [],
   "source": [
    "from keras.datasets import boston_housing\n",
    "from sklearn.preprocessing import MinMaxScaler\n",
    "def get_house_data():\n",
    "    (x_train, y_train), (x_test, y_test) = boston_housing.load_data()\n",
    "    \n",
    "    scaler = MinMaxScaler()\n",
    "    x_train = scaler.fit_transform(x_train)\n",
    "    x_test = scaler.fit_transform(x_test)\n",
    "\n",
    "    return (x_train, y_train), (x_test, y_test)\n",
    "    "
   ]
  },
  {
   "cell_type": "code",
   "execution_count": 135,
   "metadata": {},
   "outputs": [
    {
     "name": "stdout",
     "output_type": "stream",
     "text": [
      "[1.73654275e-04 8.25000000e-01 5.75513196e-02 0.00000000e+00\n",
      " 6.17283951e-02 7.84082107e-01 1.31822863e-01 5.36536996e-01\n",
      " 4.34782609e-02 3.05927342e-01 2.23404255e-01 9.96167230e-01\n",
      " 3.80794702e-02]\n",
      "42.3\n"
     ]
    }
   ],
   "source": [
    "(x_train, y_train), (x_test, y_test) = get_house_data()\n",
    "print(x_train[1], y_train[1], sep='\\n')"
   ]
  },
  {
   "cell_type": "markdown",
   "metadata": {},
   "source": [
    "### 모델 학습"
   ]
  },
  {
   "cell_type": "code",
   "execution_count": 136,
   "metadata": {},
   "outputs": [],
   "source": [
    "inp = 13\n",
    "hid = 5\n",
    "out = 1\n",
    "\n",
    "model = KerasLinear(inp, hid, out)\n",
    "(x_train, y_train), (x_test, y_test) = get_house_data()"
   ]
  },
  {
   "cell_type": "code",
   "execution_count": 137,
   "metadata": {},
   "outputs": [
    {
     "data": {
      "text/plain": [
       "array([1.73654275e-04, 8.25000000e-01, 5.75513196e-02, 0.00000000e+00,\n",
       "       6.17283951e-02, 7.84082107e-01, 1.31822863e-01, 5.36536996e-01,\n",
       "       4.34782609e-02, 3.05927342e-01, 2.23404255e-01, 9.96167230e-01,\n",
       "       3.80794702e-02])"
      ]
     },
     "execution_count": 137,
     "metadata": {},
     "output_type": "execute_result"
    }
   ],
   "source": [
    "x_train[1]"
   ]
  },
  {
   "cell_type": "code",
   "execution_count": 138,
   "metadata": {},
   "outputs": [
    {
     "name": "stdout",
     "output_type": "stream",
     "text": [
      "Epoch 1/100\n",
      "4/4 [==============================] - 0s 38ms/step - loss: 392.0643 - val_loss: 117.5795\n",
      "Epoch 2/100\n",
      "1/4 [======>.......................] - ETA: 0s - loss: 120.1612"
     ]
    },
    {
     "name": "stderr",
     "output_type": "stream",
     "text": [
      "2022-11-18 22:59:26.947132: I tensorflow/core/grappler/optimizers/custom_graph_optimizer_registry.cc:114] Plugin optimizer for device_type GPU is enabled.\n",
      "2022-11-18 22:59:27.100129: I tensorflow/core/grappler/optimizers/custom_graph_optimizer_registry.cc:114] Plugin optimizer for device_type GPU is enabled.\n"
     ]
    },
    {
     "name": "stdout",
     "output_type": "stream",
     "text": [
      "4/4 [==============================] - 0s 12ms/step - loss: 116.8511 - val_loss: 88.4648\n",
      "Epoch 3/100\n",
      "4/4 [==============================] - 0s 11ms/step - loss: 88.1660 - val_loss: 72.6879\n",
      "Epoch 4/100\n",
      "4/4 [==============================] - 0s 11ms/step - loss: 68.4707 - val_loss: 70.9410\n",
      "Epoch 5/100\n",
      "4/4 [==============================] - 0s 11ms/step - loss: 69.3732 - val_loss: 58.0799\n",
      "Epoch 6/100\n",
      "4/4 [==============================] - 0s 10ms/step - loss: 63.7626 - val_loss: 52.4867\n",
      "Epoch 7/100\n",
      "4/4 [==============================] - 0s 11ms/step - loss: 52.1817 - val_loss: 51.5673\n",
      "Epoch 8/100\n",
      "4/4 [==============================] - 0s 10ms/step - loss: 52.3073 - val_loss: 49.2017\n",
      "Epoch 9/100\n",
      "4/4 [==============================] - 0s 11ms/step - loss: 46.3104 - val_loss: 46.7903\n",
      "Epoch 10/100\n",
      "4/4 [==============================] - 0s 11ms/step - loss: 46.4035 - val_loss: 47.4936\n",
      "Epoch 11/100\n",
      "4/4 [==============================] - 0s 10ms/step - loss: 57.0287 - val_loss: 44.9964\n",
      "Epoch 12/100\n",
      "4/4 [==============================] - 0s 10ms/step - loss: 46.8197 - val_loss: 42.9972\n",
      "Epoch 13/100\n",
      "4/4 [==============================] - 0s 10ms/step - loss: 38.9666 - val_loss: 38.7410\n",
      "Epoch 14/100\n",
      "4/4 [==============================] - 0s 10ms/step - loss: 36.9780 - val_loss: 36.4726\n",
      "Epoch 15/100\n",
      "4/4 [==============================] - 0s 11ms/step - loss: 35.5668 - val_loss: 44.4717\n",
      "Epoch 16/100\n",
      "4/4 [==============================] - 0s 10ms/step - loss: 38.5236 - val_loss: 43.0087\n",
      "Epoch 17/100\n",
      "4/4 [==============================] - 0s 10ms/step - loss: 45.2077 - val_loss: 41.3037\n",
      "Epoch 18/100\n",
      "4/4 [==============================] - 0s 10ms/step - loss: 36.5633 - val_loss: 32.6977\n",
      "Epoch 19/100\n",
      "4/4 [==============================] - 0s 10ms/step - loss: 33.9870 - val_loss: 43.5085\n",
      "Epoch 20/100\n",
      "4/4 [==============================] - 0s 11ms/step - loss: 71.7165 - val_loss: 32.4062\n",
      "Epoch 21/100\n",
      "4/4 [==============================] - 0s 10ms/step - loss: 32.2381 - val_loss: 30.3022\n",
      "Epoch 22/100\n",
      "4/4 [==============================] - 0s 10ms/step - loss: 30.5520 - val_loss: 30.8700\n",
      "Epoch 23/100\n",
      "4/4 [==============================] - 0s 11ms/step - loss: 29.9268 - val_loss: 28.3571\n",
      "Epoch 24/100\n",
      "4/4 [==============================] - 0s 10ms/step - loss: 35.9745 - val_loss: 27.4630\n",
      "Epoch 25/100\n",
      "4/4 [==============================] - 0s 10ms/step - loss: 33.4082 - val_loss: 46.2171\n",
      "Epoch 26/100\n",
      "4/4 [==============================] - 0s 10ms/step - loss: 45.6441 - val_loss: 27.9997\n",
      "Epoch 27/100\n",
      "4/4 [==============================] - 0s 10ms/step - loss: 26.9105 - val_loss: 25.2998\n",
      "Epoch 28/100\n",
      "4/4 [==============================] - 0s 10ms/step - loss: 37.1298 - val_loss: 24.9418\n",
      "Epoch 29/100\n",
      "4/4 [==============================] - 0s 10ms/step - loss: 27.4386 - val_loss: 41.9448\n",
      "Epoch 30/100\n",
      "4/4 [==============================] - 0s 10ms/step - loss: 33.9119 - val_loss: 24.4150\n",
      "Epoch 31/100\n",
      "4/4 [==============================] - 0s 10ms/step - loss: 24.9611 - val_loss: 23.5306\n",
      "Epoch 32/100\n",
      "4/4 [==============================] - 0s 11ms/step - loss: 24.7591 - val_loss: 30.5825\n",
      "Epoch 33/100\n",
      "4/4 [==============================] - 0s 10ms/step - loss: 29.8591 - val_loss: 46.0050\n",
      "Epoch 34/100\n",
      "4/4 [==============================] - 0s 10ms/step - loss: 52.7362 - val_loss: 53.0583\n",
      "Epoch 35/100\n",
      "4/4 [==============================] - 0s 10ms/step - loss: 40.8053 - val_loss: 26.7696\n",
      "Epoch 36/100\n",
      "4/4 [==============================] - 0s 10ms/step - loss: 24.7583 - val_loss: 23.3551\n",
      "Epoch 37/100\n",
      "4/4 [==============================] - 0s 10ms/step - loss: 23.9130 - val_loss: 27.3586\n",
      "Epoch 38/100\n",
      "4/4 [==============================] - 0s 10ms/step - loss: 41.5985 - val_loss: 37.8303\n",
      "Epoch 39/100\n",
      "4/4 [==============================] - 0s 11ms/step - loss: 44.5218 - val_loss: 22.7052\n",
      "Epoch 40/100\n",
      "4/4 [==============================] - 0s 10ms/step - loss: 24.5001 - val_loss: 22.1766\n",
      "Epoch 41/100\n",
      "4/4 [==============================] - 0s 10ms/step - loss: 23.5661 - val_loss: 23.4128\n",
      "Epoch 42/100\n",
      "4/4 [==============================] - 0s 10ms/step - loss: 23.3305 - val_loss: 21.1192\n",
      "Epoch 43/100\n",
      "4/4 [==============================] - 0s 10ms/step - loss: 22.3492 - val_loss: 27.5138\n",
      "Epoch 44/100\n",
      "4/4 [==============================] - 0s 10ms/step - loss: 23.2059 - val_loss: 20.8249\n",
      "Epoch 45/100\n",
      "4/4 [==============================] - 0s 10ms/step - loss: 22.2742 - val_loss: 34.7438\n",
      "Epoch 46/100\n",
      "4/4 [==============================] - 0s 10ms/step - loss: 36.2141 - val_loss: 96.5134\n",
      "Epoch 47/100\n",
      "4/4 [==============================] - 0s 10ms/step - loss: 51.5777 - val_loss: 22.4476\n",
      "Epoch 48/100\n",
      "4/4 [==============================] - 0s 10ms/step - loss: 22.4839 - val_loss: 25.3683\n",
      "Epoch 49/100\n",
      "4/4 [==============================] - 0s 10ms/step - loss: 23.0962 - val_loss: 23.7734\n",
      "Epoch 50/100\n",
      "4/4 [==============================] - 0s 10ms/step - loss: 24.3403 - val_loss: 20.5215\n",
      "Epoch 51/100\n",
      "4/4 [==============================] - 0s 10ms/step - loss: 23.0908 - val_loss: 20.5258\n",
      "Epoch 52/100\n",
      "4/4 [==============================] - 0s 10ms/step - loss: 21.2792 - val_loss: 32.0566\n",
      "Epoch 53/100\n",
      "4/4 [==============================] - 0s 10ms/step - loss: 27.7009 - val_loss: 23.7019\n",
      "Epoch 54/100\n",
      "4/4 [==============================] - 0s 10ms/step - loss: 26.3967 - val_loss: 30.0259\n",
      "Epoch 55/100\n",
      "4/4 [==============================] - 0s 10ms/step - loss: 27.5862 - val_loss: 25.9354\n",
      "Epoch 56/100\n",
      "4/4 [==============================] - 0s 10ms/step - loss: 22.2959 - val_loss: 21.6204\n",
      "Epoch 57/100\n",
      "4/4 [==============================] - 0s 11ms/step - loss: 27.6651 - val_loss: 28.0188\n",
      "Epoch 58/100\n",
      "4/4 [==============================] - 0s 10ms/step - loss: 40.6185 - val_loss: 72.1426\n",
      "Epoch 59/100\n",
      "4/4 [==============================] - 0s 10ms/step - loss: 62.7701 - val_loss: 23.5955\n",
      "Epoch 60/100\n",
      "4/4 [==============================] - 0s 10ms/step - loss: 28.3888 - val_loss: 19.1107\n",
      "Epoch 61/100\n",
      "4/4 [==============================] - 0s 10ms/step - loss: 20.6296 - val_loss: 31.9802\n",
      "Epoch 62/100\n",
      "4/4 [==============================] - 0s 10ms/step - loss: 39.1726 - val_loss: 19.3528\n",
      "Epoch 63/100\n",
      "4/4 [==============================] - 0s 10ms/step - loss: 21.9368 - val_loss: 22.0791\n",
      "Epoch 64/100\n",
      "4/4 [==============================] - 0s 11ms/step - loss: 21.6636 - val_loss: 25.4319\n",
      "Epoch 65/100\n",
      "4/4 [==============================] - 0s 10ms/step - loss: 25.1349 - val_loss: 22.6473\n",
      "Epoch 66/100\n",
      "4/4 [==============================] - 0s 10ms/step - loss: 20.2591 - val_loss: 19.3075\n",
      "Epoch 67/100\n",
      "4/4 [==============================] - 0s 11ms/step - loss: 19.8687 - val_loss: 19.1311\n",
      "Epoch 68/100\n",
      "4/4 [==============================] - 0s 11ms/step - loss: 21.2359 - val_loss: 22.3524\n",
      "Epoch 69/100\n",
      "4/4 [==============================] - 0s 10ms/step - loss: 30.7794 - val_loss: 24.0917\n",
      "Epoch 70/100\n",
      "4/4 [==============================] - 0s 10ms/step - loss: 20.0727 - val_loss: 27.6195\n",
      "Epoch 71/100\n",
      "4/4 [==============================] - 0s 10ms/step - loss: 26.1115 - val_loss: 19.2253\n",
      "Epoch 72/100\n",
      "4/4 [==============================] - 0s 11ms/step - loss: 19.5191 - val_loss: 19.3857\n",
      "Epoch 73/100\n",
      "4/4 [==============================] - 0s 10ms/step - loss: 20.9693 - val_loss: 24.2097\n",
      "Epoch 74/100\n",
      "4/4 [==============================] - 0s 10ms/step - loss: 19.8731 - val_loss: 19.9093\n",
      "Epoch 75/100\n",
      "4/4 [==============================] - 0s 10ms/step - loss: 19.2345 - val_loss: 33.1060\n",
      "Epoch 76/100\n",
      "4/4 [==============================] - 0s 10ms/step - loss: 28.5401 - val_loss: 31.4069\n",
      "Epoch 77/100\n",
      "4/4 [==============================] - 0s 10ms/step - loss: 28.7708 - val_loss: 51.1845\n",
      "Epoch 78/100\n",
      "4/4 [==============================] - 0s 10ms/step - loss: 35.3239 - val_loss: 34.3825\n",
      "Epoch 79/100\n",
      "4/4 [==============================] - 0s 10ms/step - loss: 26.6186 - val_loss: 18.3541\n",
      "Epoch 80/100\n",
      "4/4 [==============================] - 0s 10ms/step - loss: 19.2263 - val_loss: 18.7507\n",
      "Epoch 81/100\n",
      "4/4 [==============================] - 0s 10ms/step - loss: 19.1743 - val_loss: 19.9422\n",
      "Epoch 82/100\n",
      "4/4 [==============================] - 0s 10ms/step - loss: 31.2117 - val_loss: 24.9737\n",
      "Epoch 83/100\n",
      "4/4 [==============================] - 0s 11ms/step - loss: 23.6190 - val_loss: 18.6360\n",
      "Epoch 84/100\n",
      "4/4 [==============================] - 0s 10ms/step - loss: 23.7223 - val_loss: 27.9251\n",
      "Epoch 85/100\n",
      "4/4 [==============================] - 0s 10ms/step - loss: 25.7480 - val_loss: 31.9364\n",
      "Epoch 86/100\n",
      "4/4 [==============================] - 0s 10ms/step - loss: 42.2237 - val_loss: 31.6203\n",
      "Epoch 87/100\n",
      "4/4 [==============================] - 0s 10ms/step - loss: 29.9170 - val_loss: 16.8487\n",
      "Epoch 88/100\n",
      "4/4 [==============================] - 0s 10ms/step - loss: 18.7413 - val_loss: 32.1988\n",
      "Epoch 89/100\n",
      "4/4 [==============================] - 0s 10ms/step - loss: 31.8836 - val_loss: 16.8185\n",
      "Epoch 90/100\n",
      "4/4 [==============================] - 0s 10ms/step - loss: 18.8251 - val_loss: 59.0813\n",
      "Epoch 91/100\n",
      "4/4 [==============================] - 0s 10ms/step - loss: 38.0570 - val_loss: 16.8787\n",
      "Epoch 92/100\n",
      "4/4 [==============================] - 0s 10ms/step - loss: 18.7572 - val_loss: 16.3417\n",
      "Epoch 93/100\n",
      "4/4 [==============================] - 0s 10ms/step - loss: 18.8107 - val_loss: 23.7550\n",
      "Epoch 94/100\n",
      "4/4 [==============================] - 0s 10ms/step - loss: 22.9082 - val_loss: 28.5686\n",
      "Epoch 95/100\n",
      "4/4 [==============================] - 0s 10ms/step - loss: 25.9797 - val_loss: 27.3304\n",
      "Epoch 96/100\n",
      "4/4 [==============================] - 0s 10ms/step - loss: 24.1033 - val_loss: 16.1286\n",
      "Epoch 97/100\n",
      "4/4 [==============================] - 0s 10ms/step - loss: 19.6750 - val_loss: 96.4316\n",
      "Epoch 98/100\n",
      "4/4 [==============================] - 0s 11ms/step - loss: 61.8221 - val_loss: 17.1017\n",
      "Epoch 99/100\n",
      "4/4 [==============================] - 0s 10ms/step - loss: 17.7974 - val_loss: 16.1567\n",
      "Epoch 100/100\n",
      "4/4 [==============================] - 0s 10ms/step - loss: 17.8735 - val_loss: 16.0996\n"
     ]
    }
   ],
   "source": [
    "result = model.fit(x_train, y_train, epochs=100, batch_size=100, validation_split=0.2, verbose=1)"
   ]
  },
  {
   "cell_type": "markdown",
   "metadata": {},
   "source": [
    "### 테스트 데이터 및 학습 과정 시각화"
   ]
  },
  {
   "cell_type": "code",
   "execution_count": 139,
   "metadata": {},
   "outputs": [
    {
     "name": "stdout",
     "output_type": "stream",
     "text": [
      "2/2 [==============================] - 0s 12ms/step - loss: 37.5204\n"
     ]
    },
    {
     "data": {
      "text/plain": [
       "37.520442962646484"
      ]
     },
     "execution_count": 139,
     "metadata": {},
     "output_type": "execute_result"
    }
   ],
   "source": [
    "# test를 이용한 손실 계산\n",
    "model.evaluate(x_test, y_test, batch_size=100)"
   ]
  },
  {
   "cell_type": "code",
   "execution_count": 140,
   "metadata": {},
   "outputs": [
    {
     "data": {
      "image/png": "[encoded data removed]",
      "text/plain": [
       "<Figure size 640x480 with 1 Axes>"
      ]
     },
     "metadata": {},
     "output_type": "display_data"
    }
   ],
   "source": [
    "show_loss(result)"
   ]
  }
 ],
 "metadata": {
  "kernelspec": {
   "display_name": "Python 3.10.6 ('tf10')",
   "language": "python",
   "name": "python3"
  },
  "language_info": {
   "codemirror_mode": {
    "name": "ipython",
    "version": 3
   },
   "file_extension": ".py",
   "mimetype": "text/x-python",
   "name": "python",
   "nbconvert_exporter": "python",
   "pygments_lexer": "ipython3",
   "version": "3.10.6"
  },
  "orig_nbformat": 4,
  "vscode": {
   "interpreter": {
    "hash": "acad792f0b2520f5debb5052bb2abdd5c0b4fa11992d75438a5adb0678aa3d1f"
   }
  }
 },
 "nbformat": 4,
 "nbformat_minor": 2
}
